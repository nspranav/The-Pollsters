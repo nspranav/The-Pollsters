{
 "cells": [
  {
   "cell_type": "code",
   "execution_count": 1,
   "metadata": {},
   "outputs": [],
   "source": [
    "import pandas as pd\n",
    "import numpy as np\n",
    "from sklearn.feature_extraction.text import CountVectorizer\n",
    "from scipy import sparse\n",
    "from os.path import expanduser\n",
    "import re\n",
    "from nltk.stem.porter import PorterStemmer\n",
    "import nltk"
   ]
  },
  {
   "cell_type": "code",
   "execution_count": 2,
   "metadata": {},
   "outputs": [],
   "source": [
    "stop_words = [word.strip() for word in open('stop_words.txt').readlines()]"
   ]
  },
  {
   "cell_type": "code",
   "execution_count": 3,
   "metadata": {},
   "outputs": [],
   "source": [
    "def stemming_tokenizer(str_input):\n",
    "    porter_stemmer = PorterStemmer()\n",
    "    words = re.sub(r\"[^A-Za-z0-9\\-]\", \" \", str_input).lower().split()\n",
    "    words = [porter_stemmer.stem(word) for word in words]\n",
    "    return words"
   ]
  },
  {
   "cell_type": "code",
   "execution_count": 4,
   "metadata": {},
   "outputs": [],
   "source": [
    "with open('dems.txt', 'r',encoding=\"utf-8\") as file:\n",
    "    dem_text = [line.strip('\\n') for line in file]\n",
    "with open('gop.txt', 'r',encoding=\"utf-8\") as file:\n",
    "    gop_text = [line.strip('\\n') for line in file]\n",
    "with open('NonPolitical.txt', 'r',encoding=\"utf-8\") as file:\n",
    "    nonp_text = [line.strip('\\n') for line in file]"
   ]
  },
  {
   "cell_type": "code",
   "execution_count": 5,
   "metadata": {},
   "outputs": [],
   "source": [
    "dem=np.array(dem_text)\n",
    "gop=np.array(gop_text)\n",
    "nonp=np.array(nonp_text)"
   ]
  },
  {
   "cell_type": "code",
   "execution_count": 6,
   "metadata": {},
   "outputs": [],
   "source": [
    "dem_df = pd.DataFrame({'tweet': dem})\n",
    "dem_df['label']=0\n",
    "gop_df = pd.DataFrame({'tweet': gop})\n",
    "gop_df['label']=1\n",
    "nonp_df = pd.DataFrame({'tweet': nonp})\n",
    "nonp_df['label']=2"
   ]
  },
  {
   "cell_type": "code",
   "execution_count": 7,
   "metadata": {},
   "outputs": [],
   "source": [
    "tweets=[dem_df,gop_df,nonp_df]\n",
    "tweets_df=pd.concat(tweets,ignore_index=True)"
   ]
  },
  {
   "cell_type": "code",
   "execution_count": 8,
   "metadata": {},
   "outputs": [],
   "source": [
    "wpt = nltk.WordPunctTokenizer()\n",
    "stop_words = nltk.corpus.stopwords.words('english')\n",
    "\n",
    "def normalize_document(doc):\n",
    "    # lower case and remove special characters\\whitespaces\n",
    "    doc=re.sub(r'-',' ',doc).strip()\n",
    "    doc=re.sub(r'#','',doc).strip() #removing #symbol\n",
    "    #doc=re.sub(r'#\\S+','',doc).strip() #removing #symbol\n",
    "    doc=re.sub(r'RT[\\s]+','',doc).strip()\n",
    "    doc = re.sub(r'http[a-zA-Z]*\\S+', '', doc).strip()\n",
    "    doc=re.sub(r'@[A-Za-z0-9]+','',doc).strip() #remove mentions\n",
    "    doc=re.sub(r'[?|$|.|!|;|:|&|\"|,|\"\"|*|-|(|)_]','',doc).strip()\n",
    "    doc = doc.lower()\n",
    "    doc = doc.strip()\n",
    "    # tokenize document\n",
    "    tokens = wpt.tokenize(doc)\n",
    "    # filter stopwords out of document\n",
    "    filtered_tokens = [token for token in tokens if token not in stop_words]\n",
    "    # re-create document from filtered tokens\n",
    "    doc = ' '.join(filtered_tokens)\n",
    "    return doc\n",
    "\n",
    "normalize_corpus = np.vectorize(normalize_document)"
   ]
  },
  {
   "cell_type": "code",
   "execution_count": 9,
   "metadata": {},
   "outputs": [
    {
     "data": {
      "text/plain": [
       "'are you registered to vote in the august th primary check to make sure youre registered and your address is up to date click here'"
      ]
     },
     "execution_count": 9,
     "metadata": {},
     "output_type": "execute_result"
    }
   ],
   "source": [
    "doc=\"Are you registered to vote in the August 7th primary? Check to make sure you're registered and your address is up to date! Click here: https://t.co/gvmxl7JOqd. #RegisterToVote #ElectionsMatter https://t.co/yZVOSYEsCj\"\n",
    "doc=re.sub(r'-',' ',doc).strip()\n",
    "doc=re.sub(r'#\\S+','',doc).strip() #removing #symbol\n",
    "doc=re.sub(r'RT[\\s]+','',doc).strip()\n",
    "doc = re.sub(r'http[a-zA-Z]*\\S+', '', doc).strip()\n",
    "doc=re.sub(r'@[A-Za-z0-9]+','',doc).strip() #remove mentions\n",
    "doc=re.sub(r'RT[\\s]+','',doc).strip()\n",
    "doc = re.sub(r'[^a-zA-Z\\s]', '', doc, re.I|re.A)\n",
    "doc=re.sub(r'[?|$|.|!|;|:|&|\"|,|\"\"|*|-|(|)_]','',doc).strip()\n",
    "doc = doc.lower()\n",
    "doc = doc.strip()\n",
    "doc\n",
    "    "
   ]
  },
  {
   "cell_type": "code",
   "execution_count": 10,
   "metadata": {},
   "outputs": [],
   "source": [
    "norm_dem=normalize_corpus(dem_df['tweet'])\n",
    "norm_gop=normalize_corpus(gop_df['tweet'])\n",
    "norm_nonp=normalize_corpus(nonp_df['tweet'])"
   ]
  },
  {
   "cell_type": "code",
   "execution_count": 11,
   "metadata": {},
   "outputs": [],
   "source": [
    "norm_tweets=np.concatenate((norm_dem, norm_gop,norm_nonp), axis=None)"
   ]
  },
  {
   "cell_type": "code",
   "execution_count": 12,
   "metadata": {},
   "outputs": [],
   "source": [
    "from gensim.models.fasttext import FastText\n",
    "\n",
    "wpt = nltk.WordPunctTokenizer()\n",
    "tokenized_corpus = [wpt.tokenize(document) for document in norm_tweets]\n",
    "\n",
    "# Set values for various parameters\n",
    "feature_size = 100    # Word vector dimensionality  \n",
    "window_context = 30          # Context window size                                                                                    \n",
    "min_word_count = 5   # Minimum word count                        \n",
    "sample = 1e-3   # Downsample setting for frequent words\n",
    "\n",
    "\n",
    "ft_model = FastText(tokenized_corpus, size=feature_size, window=window_context, \n",
    "                    min_count=min_word_count,sample=sample, sg=1, iter=50)"
   ]
  },
  {
   "cell_type": "code",
   "execution_count": 13,
   "metadata": {},
   "outputs": [
    {
     "name": "stderr",
     "output_type": "stream",
     "text": [
      "C:\\Users\\pavan\\anaconda3\\lib\\site-packages\\ipykernel_launcher.py:9: DeprecationWarning: Call to deprecated `__getitem__` (Method will be removed in 4.0.0, use self.wv.__getitem__() instead).\n",
      "  if __name__ == '__main__':\n"
     ]
    },
    {
     "data": {
      "text/html": [
       "<div>\n",
       "<style scoped>\n",
       "    .dataframe tbody tr th:only-of-type {\n",
       "        vertical-align: middle;\n",
       "    }\n",
       "\n",
       "    .dataframe tbody tr th {\n",
       "        vertical-align: top;\n",
       "    }\n",
       "\n",
       "    .dataframe thead th {\n",
       "        text-align: right;\n",
       "    }\n",
       "</style>\n",
       "<table border=\"1\" class=\"dataframe\">\n",
       "  <thead>\n",
       "    <tr style=\"text-align: right;\">\n",
       "      <th></th>\n",
       "      <th>0</th>\n",
       "      <th>1</th>\n",
       "      <th>2</th>\n",
       "      <th>3</th>\n",
       "      <th>4</th>\n",
       "      <th>5</th>\n",
       "      <th>6</th>\n",
       "      <th>7</th>\n",
       "      <th>8</th>\n",
       "      <th>9</th>\n",
       "      <th>...</th>\n",
       "      <th>90</th>\n",
       "      <th>91</th>\n",
       "      <th>92</th>\n",
       "      <th>93</th>\n",
       "      <th>94</th>\n",
       "      <th>95</th>\n",
       "      <th>96</th>\n",
       "      <th>97</th>\n",
       "      <th>98</th>\n",
       "      <th>99</th>\n",
       "    </tr>\n",
       "  </thead>\n",
       "  <tbody>\n",
       "    <tr>\n",
       "      <th>0</th>\n",
       "      <td>-0.111033</td>\n",
       "      <td>-0.040851</td>\n",
       "      <td>0.043113</td>\n",
       "      <td>-0.111244</td>\n",
       "      <td>-0.128277</td>\n",
       "      <td>0.033710</td>\n",
       "      <td>0.336156</td>\n",
       "      <td>-0.197071</td>\n",
       "      <td>0.038905</td>\n",
       "      <td>-0.101501</td>\n",
       "      <td>...</td>\n",
       "      <td>0.153220</td>\n",
       "      <td>-0.277742</td>\n",
       "      <td>-0.070176</td>\n",
       "      <td>0.090182</td>\n",
       "      <td>0.087145</td>\n",
       "      <td>-0.011979</td>\n",
       "      <td>-0.118347</td>\n",
       "      <td>-0.049777</td>\n",
       "      <td>-0.045038</td>\n",
       "      <td>0.070733</td>\n",
       "    </tr>\n",
       "    <tr>\n",
       "      <th>1</th>\n",
       "      <td>-0.180061</td>\n",
       "      <td>0.014814</td>\n",
       "      <td>0.036705</td>\n",
       "      <td>-0.359167</td>\n",
       "      <td>-0.230676</td>\n",
       "      <td>0.030014</td>\n",
       "      <td>0.247105</td>\n",
       "      <td>-0.146752</td>\n",
       "      <td>0.216178</td>\n",
       "      <td>0.053780</td>\n",
       "      <td>...</td>\n",
       "      <td>0.249677</td>\n",
       "      <td>-0.100991</td>\n",
       "      <td>0.004420</td>\n",
       "      <td>0.119193</td>\n",
       "      <td>-0.097565</td>\n",
       "      <td>-0.108999</td>\n",
       "      <td>0.057919</td>\n",
       "      <td>0.092104</td>\n",
       "      <td>0.159954</td>\n",
       "      <td>0.146054</td>\n",
       "    </tr>\n",
       "    <tr>\n",
       "      <th>2</th>\n",
       "      <td>0.035550</td>\n",
       "      <td>0.051027</td>\n",
       "      <td>0.042041</td>\n",
       "      <td>-0.019618</td>\n",
       "      <td>-0.090525</td>\n",
       "      <td>0.010587</td>\n",
       "      <td>0.264320</td>\n",
       "      <td>-0.044597</td>\n",
       "      <td>0.035951</td>\n",
       "      <td>0.105611</td>\n",
       "      <td>...</td>\n",
       "      <td>0.033048</td>\n",
       "      <td>-0.173824</td>\n",
       "      <td>-0.177278</td>\n",
       "      <td>0.089884</td>\n",
       "      <td>0.142849</td>\n",
       "      <td>0.003414</td>\n",
       "      <td>-0.006583</td>\n",
       "      <td>-0.141437</td>\n",
       "      <td>-0.008733</td>\n",
       "      <td>0.159602</td>\n",
       "    </tr>\n",
       "    <tr>\n",
       "      <th>3</th>\n",
       "      <td>0.170778</td>\n",
       "      <td>0.154098</td>\n",
       "      <td>0.003786</td>\n",
       "      <td>-0.100290</td>\n",
       "      <td>0.053653</td>\n",
       "      <td>0.130752</td>\n",
       "      <td>0.264378</td>\n",
       "      <td>-0.423741</td>\n",
       "      <td>-0.006912</td>\n",
       "      <td>-0.117160</td>\n",
       "      <td>...</td>\n",
       "      <td>0.177013</td>\n",
       "      <td>0.004099</td>\n",
       "      <td>-0.232066</td>\n",
       "      <td>-0.018772</td>\n",
       "      <td>0.143109</td>\n",
       "      <td>-0.088286</td>\n",
       "      <td>0.182734</td>\n",
       "      <td>0.268858</td>\n",
       "      <td>0.098365</td>\n",
       "      <td>0.176847</td>\n",
       "    </tr>\n",
       "    <tr>\n",
       "      <th>4</th>\n",
       "      <td>0.072956</td>\n",
       "      <td>-0.130327</td>\n",
       "      <td>0.087728</td>\n",
       "      <td>0.005564</td>\n",
       "      <td>-0.196272</td>\n",
       "      <td>0.014259</td>\n",
       "      <td>0.303873</td>\n",
       "      <td>-0.228379</td>\n",
       "      <td>0.270803</td>\n",
       "      <td>-0.090300</td>\n",
       "      <td>...</td>\n",
       "      <td>0.114209</td>\n",
       "      <td>-0.019538</td>\n",
       "      <td>-0.127343</td>\n",
       "      <td>0.057023</td>\n",
       "      <td>0.001884</td>\n",
       "      <td>-0.006214</td>\n",
       "      <td>0.115848</td>\n",
       "      <td>0.045873</td>\n",
       "      <td>-0.046138</td>\n",
       "      <td>0.165398</td>\n",
       "    </tr>\n",
       "    <tr>\n",
       "      <th>...</th>\n",
       "      <td>...</td>\n",
       "      <td>...</td>\n",
       "      <td>...</td>\n",
       "      <td>...</td>\n",
       "      <td>...</td>\n",
       "      <td>...</td>\n",
       "      <td>...</td>\n",
       "      <td>...</td>\n",
       "      <td>...</td>\n",
       "      <td>...</td>\n",
       "      <td>...</td>\n",
       "      <td>...</td>\n",
       "      <td>...</td>\n",
       "      <td>...</td>\n",
       "      <td>...</td>\n",
       "      <td>...</td>\n",
       "      <td>...</td>\n",
       "      <td>...</td>\n",
       "      <td>...</td>\n",
       "      <td>...</td>\n",
       "      <td>...</td>\n",
       "    </tr>\n",
       "    <tr>\n",
       "      <th>51259</th>\n",
       "      <td>0.124993</td>\n",
       "      <td>-0.297604</td>\n",
       "      <td>-0.035642</td>\n",
       "      <td>-0.340041</td>\n",
       "      <td>-0.072041</td>\n",
       "      <td>0.008739</td>\n",
       "      <td>0.349559</td>\n",
       "      <td>0.032762</td>\n",
       "      <td>0.141073</td>\n",
       "      <td>0.003069</td>\n",
       "      <td>...</td>\n",
       "      <td>0.211428</td>\n",
       "      <td>-0.137917</td>\n",
       "      <td>-0.009618</td>\n",
       "      <td>0.134221</td>\n",
       "      <td>0.231884</td>\n",
       "      <td>0.126744</td>\n",
       "      <td>-0.042697</td>\n",
       "      <td>0.107099</td>\n",
       "      <td>-0.038124</td>\n",
       "      <td>0.204685</td>\n",
       "    </tr>\n",
       "    <tr>\n",
       "      <th>51260</th>\n",
       "      <td>0.118476</td>\n",
       "      <td>-0.144198</td>\n",
       "      <td>0.177618</td>\n",
       "      <td>-0.362290</td>\n",
       "      <td>0.060397</td>\n",
       "      <td>-0.059293</td>\n",
       "      <td>0.129206</td>\n",
       "      <td>-0.050758</td>\n",
       "      <td>0.272182</td>\n",
       "      <td>0.108726</td>\n",
       "      <td>...</td>\n",
       "      <td>0.206806</td>\n",
       "      <td>-0.046747</td>\n",
       "      <td>0.169915</td>\n",
       "      <td>-0.015274</td>\n",
       "      <td>0.051808</td>\n",
       "      <td>0.244087</td>\n",
       "      <td>0.245285</td>\n",
       "      <td>-0.158244</td>\n",
       "      <td>-0.117737</td>\n",
       "      <td>0.122326</td>\n",
       "    </tr>\n",
       "    <tr>\n",
       "      <th>51261</th>\n",
       "      <td>0.100345</td>\n",
       "      <td>0.378787</td>\n",
       "      <td>0.094219</td>\n",
       "      <td>-0.434943</td>\n",
       "      <td>0.033277</td>\n",
       "      <td>0.315459</td>\n",
       "      <td>0.210491</td>\n",
       "      <td>-0.313004</td>\n",
       "      <td>-0.046896</td>\n",
       "      <td>0.269839</td>\n",
       "      <td>...</td>\n",
       "      <td>0.125464</td>\n",
       "      <td>-0.276510</td>\n",
       "      <td>-0.110322</td>\n",
       "      <td>0.036250</td>\n",
       "      <td>-0.068362</td>\n",
       "      <td>-0.297122</td>\n",
       "      <td>0.012625</td>\n",
       "      <td>-0.059896</td>\n",
       "      <td>-0.034177</td>\n",
       "      <td>0.022843</td>\n",
       "    </tr>\n",
       "    <tr>\n",
       "      <th>51262</th>\n",
       "      <td>0.079366</td>\n",
       "      <td>0.032468</td>\n",
       "      <td>0.056638</td>\n",
       "      <td>-0.402173</td>\n",
       "      <td>0.097175</td>\n",
       "      <td>0.250982</td>\n",
       "      <td>0.302567</td>\n",
       "      <td>-0.029213</td>\n",
       "      <td>0.144977</td>\n",
       "      <td>-0.032277</td>\n",
       "      <td>...</td>\n",
       "      <td>0.169373</td>\n",
       "      <td>-0.188934</td>\n",
       "      <td>0.011305</td>\n",
       "      <td>0.143926</td>\n",
       "      <td>0.131420</td>\n",
       "      <td>0.249654</td>\n",
       "      <td>-0.030264</td>\n",
       "      <td>-0.007378</td>\n",
       "      <td>0.075654</td>\n",
       "      <td>-0.083187</td>\n",
       "    </tr>\n",
       "    <tr>\n",
       "      <th>51263</th>\n",
       "      <td>-0.002186</td>\n",
       "      <td>0.126458</td>\n",
       "      <td>0.091773</td>\n",
       "      <td>-0.101522</td>\n",
       "      <td>-0.048019</td>\n",
       "      <td>0.133307</td>\n",
       "      <td>0.167130</td>\n",
       "      <td>-0.063183</td>\n",
       "      <td>0.023859</td>\n",
       "      <td>0.013663</td>\n",
       "      <td>...</td>\n",
       "      <td>0.120441</td>\n",
       "      <td>-0.135784</td>\n",
       "      <td>-0.012570</td>\n",
       "      <td>-0.031190</td>\n",
       "      <td>0.071725</td>\n",
       "      <td>-0.108866</td>\n",
       "      <td>-0.110935</td>\n",
       "      <td>-0.141619</td>\n",
       "      <td>-0.052762</td>\n",
       "      <td>-0.000871</td>\n",
       "    </tr>\n",
       "  </tbody>\n",
       "</table>\n",
       "<p>51264 rows × 100 columns</p>\n",
       "</div>"
      ],
      "text/plain": [
       "             0         1         2         3         4         5         6   \\\n",
       "0     -0.111033 -0.040851  0.043113 -0.111244 -0.128277  0.033710  0.336156   \n",
       "1     -0.180061  0.014814  0.036705 -0.359167 -0.230676  0.030014  0.247105   \n",
       "2      0.035550  0.051027  0.042041 -0.019618 -0.090525  0.010587  0.264320   \n",
       "3      0.170778  0.154098  0.003786 -0.100290  0.053653  0.130752  0.264378   \n",
       "4      0.072956 -0.130327  0.087728  0.005564 -0.196272  0.014259  0.303873   \n",
       "...         ...       ...       ...       ...       ...       ...       ...   \n",
       "51259  0.124993 -0.297604 -0.035642 -0.340041 -0.072041  0.008739  0.349559   \n",
       "51260  0.118476 -0.144198  0.177618 -0.362290  0.060397 -0.059293  0.129206   \n",
       "51261  0.100345  0.378787  0.094219 -0.434943  0.033277  0.315459  0.210491   \n",
       "51262  0.079366  0.032468  0.056638 -0.402173  0.097175  0.250982  0.302567   \n",
       "51263 -0.002186  0.126458  0.091773 -0.101522 -0.048019  0.133307  0.167130   \n",
       "\n",
       "             7         8         9   ...        90        91        92  \\\n",
       "0     -0.197071  0.038905 -0.101501  ...  0.153220 -0.277742 -0.070176   \n",
       "1     -0.146752  0.216178  0.053780  ...  0.249677 -0.100991  0.004420   \n",
       "2     -0.044597  0.035951  0.105611  ...  0.033048 -0.173824 -0.177278   \n",
       "3     -0.423741 -0.006912 -0.117160  ...  0.177013  0.004099 -0.232066   \n",
       "4     -0.228379  0.270803 -0.090300  ...  0.114209 -0.019538 -0.127343   \n",
       "...         ...       ...       ...  ...       ...       ...       ...   \n",
       "51259  0.032762  0.141073  0.003069  ...  0.211428 -0.137917 -0.009618   \n",
       "51260 -0.050758  0.272182  0.108726  ...  0.206806 -0.046747  0.169915   \n",
       "51261 -0.313004 -0.046896  0.269839  ...  0.125464 -0.276510 -0.110322   \n",
       "51262 -0.029213  0.144977 -0.032277  ...  0.169373 -0.188934  0.011305   \n",
       "51263 -0.063183  0.023859  0.013663  ...  0.120441 -0.135784 -0.012570   \n",
       "\n",
       "             93        94        95        96        97        98        99  \n",
       "0      0.090182  0.087145 -0.011979 -0.118347 -0.049777 -0.045038  0.070733  \n",
       "1      0.119193 -0.097565 -0.108999  0.057919  0.092104  0.159954  0.146054  \n",
       "2      0.089884  0.142849  0.003414 -0.006583 -0.141437 -0.008733  0.159602  \n",
       "3     -0.018772  0.143109 -0.088286  0.182734  0.268858  0.098365  0.176847  \n",
       "4      0.057023  0.001884 -0.006214  0.115848  0.045873 -0.046138  0.165398  \n",
       "...         ...       ...       ...       ...       ...       ...       ...  \n",
       "51259  0.134221  0.231884  0.126744 -0.042697  0.107099 -0.038124  0.204685  \n",
       "51260 -0.015274  0.051808  0.244087  0.245285 -0.158244 -0.117737  0.122326  \n",
       "51261  0.036250 -0.068362 -0.297122  0.012625 -0.059896 -0.034177  0.022843  \n",
       "51262  0.143926  0.131420  0.249654 -0.030264 -0.007378  0.075654 -0.083187  \n",
       "51263 -0.031190  0.071725 -0.108866 -0.110935 -0.141619 -0.052762 -0.000871  \n",
       "\n",
       "[51264 rows x 100 columns]"
      ]
     },
     "execution_count": 13,
     "metadata": {},
     "output_type": "execute_result"
    }
   ],
   "source": [
    "def average_word_vectors(words, model, vocabulary, num_features):\n",
    "    \n",
    "    feature_vector = np.zeros((num_features,),dtype=\"float64\")\n",
    "    nwords = 0.\n",
    "    \n",
    "    for word in words:\n",
    "        if word in vocabulary: \n",
    "            nwords = nwords + 1.\n",
    "            feature_vector = np.add(feature_vector, model[word])\n",
    "    \n",
    "    if nwords:\n",
    "        feature_vector = np.divide(feature_vector, nwords)\n",
    "        \n",
    "    return feature_vector\n",
    "    \n",
    "\n",
    "def averaged_word_vectorizer(corpus, model, num_features):\n",
    "    vocabulary = set(model.wv.index2word)\n",
    "    features = [average_word_vectors(tokenized_sentence, model, vocabulary, num_features)\n",
    "                    for tokenized_sentence in corpus]\n",
    "    return np.array(features)\n",
    "\n",
    "\n",
    "# get document level embeddings\n",
    "ft_feature_array = averaged_word_vectorizer(corpus=tokenized_corpus, model=ft_model,\n",
    "                                             num_features=feature_size)\n",
    "tweet_ft=pd.DataFrame(ft_feature_array)\n",
    "tweet_ft"
   ]
  },
  {
   "cell_type": "code",
   "execution_count": 14,
   "metadata": {},
   "outputs": [],
   "source": [
    "# tweet_ft.to_csv(\"FastText.csv\",index=False)"
   ]
  },
  {
   "cell_type": "code",
   "execution_count": 15,
   "metadata": {},
   "outputs": [],
   "source": [
    "tweetft_df=pd.concat([tweet_ft,tweets_df], axis=1)"
   ]
  },
  {
   "cell_type": "code",
   "execution_count": 16,
   "metadata": {},
   "outputs": [
    {
     "data": {
      "text/html": [
       "<div>\n",
       "<style scoped>\n",
       "    .dataframe tbody tr th:only-of-type {\n",
       "        vertical-align: middle;\n",
       "    }\n",
       "\n",
       "    .dataframe tbody tr th {\n",
       "        vertical-align: top;\n",
       "    }\n",
       "\n",
       "    .dataframe thead th {\n",
       "        text-align: right;\n",
       "    }\n",
       "</style>\n",
       "<table border=\"1\" class=\"dataframe\">\n",
       "  <thead>\n",
       "    <tr style=\"text-align: right;\">\n",
       "      <th></th>\n",
       "      <th>0</th>\n",
       "      <th>1</th>\n",
       "      <th>2</th>\n",
       "      <th>3</th>\n",
       "      <th>4</th>\n",
       "      <th>5</th>\n",
       "      <th>6</th>\n",
       "      <th>7</th>\n",
       "      <th>8</th>\n",
       "      <th>9</th>\n",
       "      <th>...</th>\n",
       "      <th>92</th>\n",
       "      <th>93</th>\n",
       "      <th>94</th>\n",
       "      <th>95</th>\n",
       "      <th>96</th>\n",
       "      <th>97</th>\n",
       "      <th>98</th>\n",
       "      <th>99</th>\n",
       "      <th>tweet</th>\n",
       "      <th>label</th>\n",
       "    </tr>\n",
       "  </thead>\n",
       "  <tbody>\n",
       "    <tr>\n",
       "      <th>0</th>\n",
       "      <td>-0.111033</td>\n",
       "      <td>-0.040851</td>\n",
       "      <td>0.043113</td>\n",
       "      <td>-0.111244</td>\n",
       "      <td>-0.128277</td>\n",
       "      <td>0.033710</td>\n",
       "      <td>0.336156</td>\n",
       "      <td>-0.197071</td>\n",
       "      <td>0.038905</td>\n",
       "      <td>-0.101501</td>\n",
       "      <td>...</td>\n",
       "      <td>-0.070176</td>\n",
       "      <td>0.090182</td>\n",
       "      <td>0.087145</td>\n",
       "      <td>-0.011979</td>\n",
       "      <td>-0.118347</td>\n",
       "      <td>-0.049777</td>\n",
       "      <td>-0.045038</td>\n",
       "      <td>0.070733</td>\n",
       "      <td>This week @senatemajldr said workers don’t nee...</td>\n",
       "      <td>0</td>\n",
       "    </tr>\n",
       "    <tr>\n",
       "      <th>1</th>\n",
       "      <td>-0.180061</td>\n",
       "      <td>0.014814</td>\n",
       "      <td>0.036705</td>\n",
       "      <td>-0.359167</td>\n",
       "      <td>-0.230676</td>\n",
       "      <td>0.030014</td>\n",
       "      <td>0.247105</td>\n",
       "      <td>-0.146752</td>\n",
       "      <td>0.216178</td>\n",
       "      <td>0.053780</td>\n",
       "      <td>...</td>\n",
       "      <td>0.004420</td>\n",
       "      <td>0.119193</td>\n",
       "      <td>-0.097565</td>\n",
       "      <td>-0.108999</td>\n",
       "      <td>0.057919</td>\n",
       "      <td>0.092104</td>\n",
       "      <td>0.159954</td>\n",
       "      <td>0.146054</td>\n",
       "      <td>Health care professionals are on the front lin...</td>\n",
       "      <td>0</td>\n",
       "    </tr>\n",
       "    <tr>\n",
       "      <th>2</th>\n",
       "      <td>0.035550</td>\n",
       "      <td>0.051027</td>\n",
       "      <td>0.042041</td>\n",
       "      <td>-0.019618</td>\n",
       "      <td>-0.090525</td>\n",
       "      <td>0.010587</td>\n",
       "      <td>0.264320</td>\n",
       "      <td>-0.044597</td>\n",
       "      <td>0.035951</td>\n",
       "      <td>0.105611</td>\n",
       "      <td>...</td>\n",
       "      <td>-0.177278</td>\n",
       "      <td>0.089884</td>\n",
       "      <td>0.142849</td>\n",
       "      <td>0.003414</td>\n",
       "      <td>-0.006583</td>\n",
       "      <td>-0.141437</td>\n",
       "      <td>-0.008733</td>\n",
       "      <td>0.159602</td>\n",
       "      <td>RT @SeemaNanda: Good to see @Google signal a c...</td>\n",
       "      <td>0</td>\n",
       "    </tr>\n",
       "    <tr>\n",
       "      <th>3</th>\n",
       "      <td>0.170778</td>\n",
       "      <td>0.154098</td>\n",
       "      <td>0.003786</td>\n",
       "      <td>-0.100290</td>\n",
       "      <td>0.053653</td>\n",
       "      <td>0.130752</td>\n",
       "      <td>0.264378</td>\n",
       "      <td>-0.423741</td>\n",
       "      <td>-0.006912</td>\n",
       "      <td>-0.117160</td>\n",
       "      <td>...</td>\n",
       "      <td>-0.232066</td>\n",
       "      <td>-0.018772</td>\n",
       "      <td>0.143109</td>\n",
       "      <td>-0.088286</td>\n",
       "      <td>0.182734</td>\n",
       "      <td>0.268858</td>\n",
       "      <td>0.098365</td>\n",
       "      <td>0.176847</td>\n",
       "      <td>Republicans keep admitting that voter suppress...</td>\n",
       "      <td>0</td>\n",
       "    </tr>\n",
       "    <tr>\n",
       "      <th>4</th>\n",
       "      <td>0.072956</td>\n",
       "      <td>-0.130327</td>\n",
       "      <td>0.087728</td>\n",
       "      <td>0.005564</td>\n",
       "      <td>-0.196272</td>\n",
       "      <td>0.014259</td>\n",
       "      <td>0.303873</td>\n",
       "      <td>-0.228379</td>\n",
       "      <td>0.270803</td>\n",
       "      <td>-0.090300</td>\n",
       "      <td>...</td>\n",
       "      <td>-0.127343</td>\n",
       "      <td>0.057023</td>\n",
       "      <td>0.001884</td>\n",
       "      <td>-0.006214</td>\n",
       "      <td>0.115848</td>\n",
       "      <td>0.045873</td>\n",
       "      <td>-0.046138</td>\n",
       "      <td>0.165398</td>\n",
       "      <td>RT @SpeakerPelosi: The Congress has so far pas...</td>\n",
       "      <td>0</td>\n",
       "    </tr>\n",
       "    <tr>\n",
       "      <th>...</th>\n",
       "      <td>...</td>\n",
       "      <td>...</td>\n",
       "      <td>...</td>\n",
       "      <td>...</td>\n",
       "      <td>...</td>\n",
       "      <td>...</td>\n",
       "      <td>...</td>\n",
       "      <td>...</td>\n",
       "      <td>...</td>\n",
       "      <td>...</td>\n",
       "      <td>...</td>\n",
       "      <td>...</td>\n",
       "      <td>...</td>\n",
       "      <td>...</td>\n",
       "      <td>...</td>\n",
       "      <td>...</td>\n",
       "      <td>...</td>\n",
       "      <td>...</td>\n",
       "      <td>...</td>\n",
       "      <td>...</td>\n",
       "      <td>...</td>\n",
       "    </tr>\n",
       "    <tr>\n",
       "      <th>51259</th>\n",
       "      <td>0.124993</td>\n",
       "      <td>-0.297604</td>\n",
       "      <td>-0.035642</td>\n",
       "      <td>-0.340041</td>\n",
       "      <td>-0.072041</td>\n",
       "      <td>0.008739</td>\n",
       "      <td>0.349559</td>\n",
       "      <td>0.032762</td>\n",
       "      <td>0.141073</td>\n",
       "      <td>0.003069</td>\n",
       "      <td>...</td>\n",
       "      <td>-0.009618</td>\n",
       "      <td>0.134221</td>\n",
       "      <td>0.231884</td>\n",
       "      <td>0.126744</td>\n",
       "      <td>-0.042697</td>\n",
       "      <td>0.107099</td>\n",
       "      <td>-0.038124</td>\n",
       "      <td>0.204685</td>\n",
       "      <td>RT @RecordingAcad: Who is nominated in the Gen...</td>\n",
       "      <td>2</td>\n",
       "    </tr>\n",
       "    <tr>\n",
       "      <th>51260</th>\n",
       "      <td>0.118476</td>\n",
       "      <td>-0.144198</td>\n",
       "      <td>0.177618</td>\n",
       "      <td>-0.362290</td>\n",
       "      <td>0.060397</td>\n",
       "      <td>-0.059293</td>\n",
       "      <td>0.129206</td>\n",
       "      <td>-0.050758</td>\n",
       "      <td>0.272182</td>\n",
       "      <td>0.108726</td>\n",
       "      <td>...</td>\n",
       "      <td>0.169915</td>\n",
       "      <td>-0.015274</td>\n",
       "      <td>0.051808</td>\n",
       "      <td>0.244087</td>\n",
       "      <td>0.245285</td>\n",
       "      <td>-0.158244</td>\n",
       "      <td>-0.117737</td>\n",
       "      <td>0.122326</td>\n",
       "      <td>RT @WSJ: Instagram users can now turn off comm...</td>\n",
       "      <td>2</td>\n",
       "    </tr>\n",
       "    <tr>\n",
       "      <th>51261</th>\n",
       "      <td>0.100345</td>\n",
       "      <td>0.378787</td>\n",
       "      <td>0.094219</td>\n",
       "      <td>-0.434943</td>\n",
       "      <td>0.033277</td>\n",
       "      <td>0.315459</td>\n",
       "      <td>0.210491</td>\n",
       "      <td>-0.313004</td>\n",
       "      <td>-0.046896</td>\n",
       "      <td>0.269839</td>\n",
       "      <td>...</td>\n",
       "      <td>-0.110322</td>\n",
       "      <td>0.036250</td>\n",
       "      <td>-0.068362</td>\n",
       "      <td>-0.297122</td>\n",
       "      <td>0.012625</td>\n",
       "      <td>-0.059896</td>\n",
       "      <td>-0.034177</td>\n",
       "      <td>0.022843</td>\n",
       "      <td>.@valiswiser is on a mission to help people ov...</td>\n",
       "      <td>2</td>\n",
       "    </tr>\n",
       "    <tr>\n",
       "      <th>51262</th>\n",
       "      <td>0.079366</td>\n",
       "      <td>0.032468</td>\n",
       "      <td>0.056638</td>\n",
       "      <td>-0.402173</td>\n",
       "      <td>0.097175</td>\n",
       "      <td>0.250982</td>\n",
       "      <td>0.302567</td>\n",
       "      <td>-0.029213</td>\n",
       "      <td>0.144977</td>\n",
       "      <td>-0.032277</td>\n",
       "      <td>...</td>\n",
       "      <td>0.011305</td>\n",
       "      <td>0.143926</td>\n",
       "      <td>0.131420</td>\n",
       "      <td>0.249654</td>\n",
       "      <td>-0.030264</td>\n",
       "      <td>-0.007378</td>\n",
       "      <td>0.075654</td>\n",
       "      <td>-0.083187</td>\n",
       "      <td>RT @TechCrunch: Instagram fights abuse with co...</td>\n",
       "      <td>2</td>\n",
       "    </tr>\n",
       "    <tr>\n",
       "      <th>51263</th>\n",
       "      <td>-0.002186</td>\n",
       "      <td>0.126458</td>\n",
       "      <td>0.091773</td>\n",
       "      <td>-0.101522</td>\n",
       "      <td>-0.048019</td>\n",
       "      <td>0.133307</td>\n",
       "      <td>0.167130</td>\n",
       "      <td>-0.063183</td>\n",
       "      <td>0.023859</td>\n",
       "      <td>0.013663</td>\n",
       "      <td>...</td>\n",
       "      <td>-0.012570</td>\n",
       "      <td>-0.031190</td>\n",
       "      <td>0.071725</td>\n",
       "      <td>-0.108866</td>\n",
       "      <td>-0.110935</td>\n",
       "      <td>-0.141619</td>\n",
       "      <td>-0.052762</td>\n",
       "      <td>-0.000871</td>\n",
       "      <td>“The most important thing is to always be your...</td>\n",
       "      <td>2</td>\n",
       "    </tr>\n",
       "  </tbody>\n",
       "</table>\n",
       "<p>51264 rows × 102 columns</p>\n",
       "</div>"
      ],
      "text/plain": [
       "              0         1         2         3         4         5         6  \\\n",
       "0     -0.111033 -0.040851  0.043113 -0.111244 -0.128277  0.033710  0.336156   \n",
       "1     -0.180061  0.014814  0.036705 -0.359167 -0.230676  0.030014  0.247105   \n",
       "2      0.035550  0.051027  0.042041 -0.019618 -0.090525  0.010587  0.264320   \n",
       "3      0.170778  0.154098  0.003786 -0.100290  0.053653  0.130752  0.264378   \n",
       "4      0.072956 -0.130327  0.087728  0.005564 -0.196272  0.014259  0.303873   \n",
       "...         ...       ...       ...       ...       ...       ...       ...   \n",
       "51259  0.124993 -0.297604 -0.035642 -0.340041 -0.072041  0.008739  0.349559   \n",
       "51260  0.118476 -0.144198  0.177618 -0.362290  0.060397 -0.059293  0.129206   \n",
       "51261  0.100345  0.378787  0.094219 -0.434943  0.033277  0.315459  0.210491   \n",
       "51262  0.079366  0.032468  0.056638 -0.402173  0.097175  0.250982  0.302567   \n",
       "51263 -0.002186  0.126458  0.091773 -0.101522 -0.048019  0.133307  0.167130   \n",
       "\n",
       "              7         8         9  ...        92        93        94  \\\n",
       "0     -0.197071  0.038905 -0.101501  ... -0.070176  0.090182  0.087145   \n",
       "1     -0.146752  0.216178  0.053780  ...  0.004420  0.119193 -0.097565   \n",
       "2     -0.044597  0.035951  0.105611  ... -0.177278  0.089884  0.142849   \n",
       "3     -0.423741 -0.006912 -0.117160  ... -0.232066 -0.018772  0.143109   \n",
       "4     -0.228379  0.270803 -0.090300  ... -0.127343  0.057023  0.001884   \n",
       "...         ...       ...       ...  ...       ...       ...       ...   \n",
       "51259  0.032762  0.141073  0.003069  ... -0.009618  0.134221  0.231884   \n",
       "51260 -0.050758  0.272182  0.108726  ...  0.169915 -0.015274  0.051808   \n",
       "51261 -0.313004 -0.046896  0.269839  ... -0.110322  0.036250 -0.068362   \n",
       "51262 -0.029213  0.144977 -0.032277  ...  0.011305  0.143926  0.131420   \n",
       "51263 -0.063183  0.023859  0.013663  ... -0.012570 -0.031190  0.071725   \n",
       "\n",
       "             95        96        97        98        99  \\\n",
       "0     -0.011979 -0.118347 -0.049777 -0.045038  0.070733   \n",
       "1     -0.108999  0.057919  0.092104  0.159954  0.146054   \n",
       "2      0.003414 -0.006583 -0.141437 -0.008733  0.159602   \n",
       "3     -0.088286  0.182734  0.268858  0.098365  0.176847   \n",
       "4     -0.006214  0.115848  0.045873 -0.046138  0.165398   \n",
       "...         ...       ...       ...       ...       ...   \n",
       "51259  0.126744 -0.042697  0.107099 -0.038124  0.204685   \n",
       "51260  0.244087  0.245285 -0.158244 -0.117737  0.122326   \n",
       "51261 -0.297122  0.012625 -0.059896 -0.034177  0.022843   \n",
       "51262  0.249654 -0.030264 -0.007378  0.075654 -0.083187   \n",
       "51263 -0.108866 -0.110935 -0.141619 -0.052762 -0.000871   \n",
       "\n",
       "                                                   tweet  label  \n",
       "0      This week @senatemajldr said workers don’t nee...      0  \n",
       "1      Health care professionals are on the front lin...      0  \n",
       "2      RT @SeemaNanda: Good to see @Google signal a c...      0  \n",
       "3      Republicans keep admitting that voter suppress...      0  \n",
       "4      RT @SpeakerPelosi: The Congress has so far pas...      0  \n",
       "...                                                  ...    ...  \n",
       "51259  RT @RecordingAcad: Who is nominated in the Gen...      2  \n",
       "51260  RT @WSJ: Instagram users can now turn off comm...      2  \n",
       "51261  .@valiswiser is on a mission to help people ov...      2  \n",
       "51262  RT @TechCrunch: Instagram fights abuse with co...      2  \n",
       "51263  “The most important thing is to always be your...      2  \n",
       "\n",
       "[51264 rows x 102 columns]"
      ]
     },
     "execution_count": 16,
     "metadata": {},
     "output_type": "execute_result"
    }
   ],
   "source": [
    "tweetft_df"
   ]
  },
  {
   "cell_type": "code",
   "execution_count": 17,
   "metadata": {},
   "outputs": [],
   "source": [
    "from sklearn.model_selection import train_test_split\n",
    "x=tweetft_df.drop(['tweet','label'],axis=1)\n",
    "y=tweetft_df['label']\n",
    "x_train, x_test, y_train, y_test = train_test_split(x, y, test_size=0.25, random_state=42)"
   ]
  },
  {
   "cell_type": "code",
   "execution_count": 18,
   "metadata": {},
   "outputs": [
    {
     "data": {
      "text/plain": [
       "0.681023720349563"
      ]
     },
     "execution_count": 18,
     "metadata": {},
     "output_type": "execute_result"
    }
   ],
   "source": [
    "from sklearn.naive_bayes import BernoulliNB\n",
    "naive_bayes = BernoulliNB()\n",
    "model = naive_bayes.fit(x_train, y_train)\n",
    "y_predictions = model.predict(x_test)\n",
    "from sklearn.metrics import accuracy_score\n",
    "accuracy_score(y_test, y_predictions)"
   ]
  },
  {
   "cell_type": "code",
   "execution_count": 19,
   "metadata": {},
   "outputs": [
    {
     "data": {
      "text/plain": [
       "LogisticRegression(C=1.0, class_weight=None, dual=False, fit_intercept=True,\n",
       "                   intercept_scaling=1, l1_ratio=None, max_iter=100,\n",
       "                   multi_class='multinomial', n_jobs=None, penalty='l2',\n",
       "                   random_state=None, solver='newton-cg', tol=0.0001, verbose=0,\n",
       "                   warm_start=False)"
      ]
     },
     "execution_count": 19,
     "metadata": {},
     "output_type": "execute_result"
    }
   ],
   "source": [
    "from sklearn.linear_model import LogisticRegression\n",
    "X_train, X_test, y_train, y_test = train_test_split(x, y, test_size=0.25,random_state = 42) \n",
    "log_classifier = LogisticRegression(multi_class='multinomial',solver ='newton-cg')\n",
    "log_classifier.fit(X_train, y_train)"
   ]
  },
  {
   "cell_type": "code",
   "execution_count": 20,
   "metadata": {},
   "outputs": [],
   "source": [
    "y_pred = log_classifier.predict(X_test)"
   ]
  },
  {
   "cell_type": "code",
   "execution_count": 21,
   "metadata": {},
   "outputs": [
    {
     "data": {
      "text/plain": [
       "0.7936173533083646"
      ]
     },
     "execution_count": 21,
     "metadata": {},
     "output_type": "execute_result"
    }
   ],
   "source": [
    "log_classifier.score(X_test, y_test) "
   ]
  },
  {
   "cell_type": "code",
   "execution_count": 22,
   "metadata": {},
   "outputs": [
    {
     "data": {
      "text/plain": [
       "array([[3693, 1024,  122],\n",
       "       [ 936, 3575,  189],\n",
       "       [ 163,  211, 2903]], dtype=int64)"
      ]
     },
     "execution_count": 22,
     "metadata": {},
     "output_type": "execute_result"
    }
   ],
   "source": [
    "from sklearn.metrics import confusion_matrix\n",
    "cm = confusion_matrix(y_test, y_pred)\n",
    "cm"
   ]
  },
  {
   "cell_type": "code",
   "execution_count": 23,
   "metadata": {},
   "outputs": [
    {
     "data": {
      "text/plain": [
       "array([[3678, 1019,  142],\n",
       "       [ 944, 3533,  223],\n",
       "       [ 162,  192, 2923]], dtype=int64)"
      ]
     },
     "execution_count": 23,
     "metadata": {},
     "output_type": "execute_result"
    }
   ],
   "source": [
    "from sklearn.svm import LinearSVC\n",
    "model = LinearSVC()\n",
    "model.fit(X_train, y_train)\n",
    "y_pred = model.predict(X_test)\n",
    "from sklearn.metrics import confusion_matrix\n",
    "conf_mat = confusion_matrix(y_test, y_pred)\n",
    "conf_mat"
   ]
  },
  {
   "cell_type": "code",
   "execution_count": 24,
   "metadata": {},
   "outputs": [
    {
     "data": {
      "text/plain": [
       "0.7907303370786517"
      ]
     },
     "execution_count": 24,
     "metadata": {},
     "output_type": "execute_result"
    }
   ],
   "source": [
    "model.score(X_test, y_test) "
   ]
  },
  {
   "cell_type": "code",
   "execution_count": 25,
   "metadata": {},
   "outputs": [
    {
     "data": {
      "text/plain": [
       "{'gop': ['republicans', 'republican', 'senators', 'gut', 'toxic'],\n",
       " 'dem': ['dems', 'meddling', 'democrat', 'socialists', 'democratic'],\n",
       " 'vote': ['ballot', 'voting', 'nhprimary', 'polls', 'box'],\n",
       " 'attack': ['attacks', 'attempt', 'tragically', 'horrific', 'waged'],\n",
       " 'administration': ['trump', 'cruel', 'president', 'admin', 'cruelly'],\n",
       " 'voters': ['nhprimary', 'republicans', 'electi', 'voter', 'primary'],\n",
       " 'win': ['chance', 'compete', 'huge', 'victory', 'enter'],\n",
       " 'trump': ['president', 'donald', 'administration', 'presidency', '—']}"
      ]
     },
     "execution_count": 25,
     "metadata": {},
     "output_type": "execute_result"
    }
   ],
   "source": [
    "similar_words = {search_term: [item[0] for item in ft_model.wv.most_similar([search_term], topn=5)]\n",
    "                  for search_term in ['gop', 'dem', 'vote', 'attack', 'administration', 'voters','win','trump']}\n",
    "similar_words"
   ]
  },
  {
   "cell_type": "code",
   "execution_count": 26,
   "metadata": {},
   "outputs": [],
   "source": [
    "import fasttext"
   ]
  },
  {
   "cell_type": "code",
   "execution_count": 109,
   "metadata": {},
   "outputs": [],
   "source": [
    "tweets=[dem_df,gop_df,nonp_df]\n",
    "tweets_df=pd.concat(tweets,ignore_index=True)"
   ]
  },
  {
   "cell_type": "code",
   "execution_count": 110,
   "metadata": {},
   "outputs": [],
   "source": [
    "wpt = nltk.WordPunctTokenizer()\n",
    "stop_words = nltk.corpus.stopwords.words('english')\n",
    "\n",
    "def normalize_document(doc):\n",
    "    # lower case and remove special characters\\whitespaces\n",
    "    doc=re.sub(r'-',' ',doc).strip()\n",
    "    #doc=re.sub(r'#\\S+','',doc).strip() #removing #symbol\n",
    "    doc=re.sub(r'RT[\\s]+','',doc).strip()\n",
    "    doc = re.sub(r'http[a-zA-Z]*\\S+', '', doc).strip()\n",
    "    #doc=re.sub(r'@[A-Za-z0-9]+','',doc).strip() #remove mentions\n",
    "    doc=re.sub(r'[?|$|.|!|;|:|&|\"|,|\"\"|*|-|(|)|#|_|@]','',doc).strip()\n",
    "    doc = doc.lower()\n",
    "    doc = doc.strip()\n",
    "    # tokenize document\n",
    "    tokens = wpt.tokenize(doc)\n",
    "    # filter stopwords out of document\n",
    "    filtered_tokens = [token for token in tokens if token not in stop_words]\n",
    "    # re-create document from filtered tokens\n",
    "    doc = ' '.join(filtered_tokens)\n",
    "    return doc\n",
    "\n",
    "normalize_corpus = np.vectorize(normalize_document)"
   ]
  },
  {
   "cell_type": "code",
   "execution_count": 111,
   "metadata": {},
   "outputs": [],
   "source": [
    "tweets_df[\"tweet\"]=tweets_df[\"tweet\"].apply(normalize_document)"
   ]
  },
  {
   "cell_type": "code",
   "execution_count": 112,
   "metadata": {},
   "outputs": [],
   "source": [
    "def add_prefix(colum):\n",
    "    return \"__label__\"+str(colum)"
   ]
  },
  {
   "cell_type": "code",
   "execution_count": 113,
   "metadata": {},
   "outputs": [],
   "source": [
    "def print_results(N, p, r):\n",
    "    print(\"N\\t\" + str(N))\n",
    "    print(\"P@{}\\t{:.3f}\".format(1, p)) #Precision\n",
    "    print(\"R@{}\\t{:.3f}\".format(1, r)) #Recall"
   ]
  },
  {
   "cell_type": "code",
   "execution_count": 114,
   "metadata": {},
   "outputs": [],
   "source": [
    "x=tweets_df[\"tweet\"]\n",
    "y=tweets_df[\"label\"]"
   ]
  },
  {
   "cell_type": "code",
   "execution_count": 115,
   "metadata": {},
   "outputs": [],
   "source": [
    "x_train, x_test, y_train, y_test = train_test_split(x, y, test_size=0.2)"
   ]
  },
  {
   "cell_type": "code",
   "execution_count": 116,
   "metadata": {},
   "outputs": [
    {
     "data": {
      "text/html": [
       "<div>\n",
       "<style scoped>\n",
       "    .dataframe tbody tr th:only-of-type {\n",
       "        vertical-align: middle;\n",
       "    }\n",
       "\n",
       "    .dataframe tbody tr th {\n",
       "        vertical-align: top;\n",
       "    }\n",
       "\n",
       "    .dataframe thead th {\n",
       "        text-align: right;\n",
       "    }\n",
       "</style>\n",
       "<table border=\"1\" class=\"dataframe\">\n",
       "  <thead>\n",
       "    <tr style=\"text-align: right;\">\n",
       "      <th></th>\n",
       "      <th>value</th>\n",
       "      <th>label</th>\n",
       "    </tr>\n",
       "  </thead>\n",
       "  <tbody>\n",
       "    <tr>\n",
       "      <th>14706</th>\n",
       "      <td>repcolinallred affordable care act helped mill...</td>\n",
       "      <td>0</td>\n",
       "    </tr>\n",
       "    <tr>\n",
       "      <th>10473</th>\n",
       "      <td>pattymurray ’ hearing — idea american presiden...</td>\n",
       "      <td>0</td>\n",
       "    </tr>\n",
       "    <tr>\n",
       "      <th>16801</th>\n",
       "      <td>donald trump ' muslim ban direct betrayal amer...</td>\n",
       "      <td>0</td>\n",
       "    </tr>\n",
       "    <tr>\n",
       "      <th>5871</th>\n",
       "      <td>last night — hours kavanaugh ’ hearings began ...</td>\n",
       "      <td>0</td>\n",
       "    </tr>\n",
       "    <tr>\n",
       "      <th>49117</th>\n",
       "      <td>connect even friends 6 people video chat insta...</td>\n",
       "      <td>2</td>\n",
       "    </tr>\n",
       "    <tr>\n",
       "      <th>...</th>\n",
       "      <td>...</td>\n",
       "      <td>...</td>\n",
       "    </tr>\n",
       "    <tr>\n",
       "      <th>28575</th>\n",
       "      <td>speaking poland first ever ministerial promote...</td>\n",
       "      <td>1</td>\n",
       "    </tr>\n",
       "    <tr>\n",
       "      <th>22032</th>\n",
       "      <td>president trump putting americafirst comes tra...</td>\n",
       "      <td>1</td>\n",
       "    </tr>\n",
       "    <tr>\n",
       "      <th>41444</th>\n",
       "      <td>best action caught 📸 »</td>\n",
       "      <td>2</td>\n",
       "    </tr>\n",
       "    <tr>\n",
       "      <th>8559</th>\n",
       "      <td>bradbainum 3rd time senmcsallyaz votes allow 3...</td>\n",
       "      <td>0</td>\n",
       "    </tr>\n",
       "    <tr>\n",
       "      <th>48402</th>\n",
       "      <td>“ hair crown wear pride ” thisweekoninstagram</td>\n",
       "      <td>2</td>\n",
       "    </tr>\n",
       "  </tbody>\n",
       "</table>\n",
       "<p>41011 rows × 2 columns</p>\n",
       "</div>"
      ],
      "text/plain": [
       "                                                   value  label\n",
       "14706  repcolinallred affordable care act helped mill...      0\n",
       "10473  pattymurray ’ hearing — idea american presiden...      0\n",
       "16801  donald trump ' muslim ban direct betrayal amer...      0\n",
       "5871   last night — hours kavanaugh ’ hearings began ...      0\n",
       "49117  connect even friends 6 people video chat insta...      2\n",
       "...                                                  ...    ...\n",
       "28575  speaking poland first ever ministerial promote...      1\n",
       "22032  president trump putting americafirst comes tra...      1\n",
       "41444                             best action caught 📸 »      2\n",
       "8559   bradbainum 3rd time senmcsallyaz votes allow 3...      0\n",
       "48402      “ hair crown wear pride ” thisweekoninstagram      2\n",
       "\n",
       "[41011 rows x 2 columns]"
      ]
     },
     "execution_count": 116,
     "metadata": {},
     "output_type": "execute_result"
    }
   ],
   "source": [
    "train_df=pd.DataFrame()\n",
    "train_df[\"value\"]=x_train\n",
    "train_df[\"label\"]=y_train\n",
    "train_df"
   ]
  },
  {
   "cell_type": "code",
   "execution_count": 117,
   "metadata": {},
   "outputs": [
    {
     "data": {
      "text/html": [
       "<div>\n",
       "<style scoped>\n",
       "    .dataframe tbody tr th:only-of-type {\n",
       "        vertical-align: middle;\n",
       "    }\n",
       "\n",
       "    .dataframe tbody tr th {\n",
       "        vertical-align: top;\n",
       "    }\n",
       "\n",
       "    .dataframe thead th {\n",
       "        text-align: right;\n",
       "    }\n",
       "</style>\n",
       "<table border=\"1\" class=\"dataframe\">\n",
       "  <thead>\n",
       "    <tr style=\"text-align: right;\">\n",
       "      <th></th>\n",
       "      <th>value</th>\n",
       "      <th>label</th>\n",
       "    </tr>\n",
       "  </thead>\n",
       "  <tbody>\n",
       "    <tr>\n",
       "      <th>6883</th>\n",
       "      <td>thedemocrats 🚨 problems polls today call voter...</td>\n",
       "      <td>0</td>\n",
       "    </tr>\n",
       "    <tr>\n",
       "      <th>41903</th>\n",
       "      <td>listen mavens marvel ' mighty menace</td>\n",
       "      <td>2</td>\n",
       "    </tr>\n",
       "    <tr>\n",
       "      <th>21878</th>\n",
       "      <td>gopchairwoman bipartisan opposition pelosi sch...</td>\n",
       "      <td>1</td>\n",
       "    </tr>\n",
       "    <tr>\n",
       "      <th>30928</th>\n",
       "      <td>hamas rocket attacks threatening lives innocen...</td>\n",
       "      <td>1</td>\n",
       "    </tr>\n",
       "    <tr>\n",
       "      <th>33034</th>\n",
       "      <td>get free fake news filter ⁦ scottadamssays ⁩ s...</td>\n",
       "      <td>1</td>\n",
       "    </tr>\n",
       "    <tr>\n",
       "      <th>...</th>\n",
       "      <td>...</td>\n",
       "      <td>...</td>\n",
       "    </tr>\n",
       "    <tr>\n",
       "      <th>28551</th>\n",
       "      <td>realdonaldtrump hope enjoying president ’ day ...</td>\n",
       "      <td>1</td>\n",
       "    </tr>\n",
       "    <tr>\n",
       "      <th>50273</th>\n",
       "      <td>“ afghanistan immensely fascinating place repo...</td>\n",
       "      <td>2</td>\n",
       "    </tr>\n",
       "    <tr>\n",
       "      <th>25602</th>\n",
       "      <td>dem harassment kellyannepolls ridiculous multi...</td>\n",
       "      <td>1</td>\n",
       "    </tr>\n",
       "    <tr>\n",
       "      <th>17149</th>\n",
       "      <td>folks coming together across country host watc...</td>\n",
       "      <td>0</td>\n",
       "    </tr>\n",
       "    <tr>\n",
       "      <th>16606</th>\n",
       "      <td>' take stage tonight ' town hall las vegas nev...</td>\n",
       "      <td>0</td>\n",
       "    </tr>\n",
       "  </tbody>\n",
       "</table>\n",
       "<p>10253 rows × 2 columns</p>\n",
       "</div>"
      ],
      "text/plain": [
       "                                                   value  label\n",
       "6883   thedemocrats 🚨 problems polls today call voter...      0\n",
       "41903               listen mavens marvel ' mighty menace      2\n",
       "21878  gopchairwoman bipartisan opposition pelosi sch...      1\n",
       "30928  hamas rocket attacks threatening lives innocen...      1\n",
       "33034  get free fake news filter ⁦ scottadamssays ⁩ s...      1\n",
       "...                                                  ...    ...\n",
       "28551  realdonaldtrump hope enjoying president ’ day ...      1\n",
       "50273  “ afghanistan immensely fascinating place repo...      2\n",
       "25602  dem harassment kellyannepolls ridiculous multi...      1\n",
       "17149  folks coming together across country host watc...      0\n",
       "16606  ' take stage tonight ' town hall las vegas nev...      0\n",
       "\n",
       "[10253 rows x 2 columns]"
      ]
     },
     "execution_count": 117,
     "metadata": {},
     "output_type": "execute_result"
    }
   ],
   "source": [
    "test_df=pd.DataFrame()\n",
    "test_df[\"value\"]=x_test\n",
    "test_df[\"label\"]=y_test\n",
    "test_df"
   ]
  },
  {
   "cell_type": "code",
   "execution_count": 118,
   "metadata": {},
   "outputs": [],
   "source": [
    "train_df[\"value\"]=train_df[\"label\"].apply(add_prefix)+\" \"+train_df[\"value\"]\n",
    "test_df[\"value\"]=test_df[\"label\"].apply(add_prefix)+\" \"+test_df[\"value\"]"
   ]
  },
  {
   "cell_type": "code",
   "execution_count": 119,
   "metadata": {},
   "outputs": [
    {
     "data": {
      "text/plain": [
       "14706    __label__0 repcolinallred affordable care act ...\n",
       "10473    __label__0 pattymurray ’ hearing — idea americ...\n",
       "16801    __label__0 donald trump ' muslim ban direct be...\n",
       "5871     __label__0 last night — hours kavanaugh ’ hear...\n",
       "49117    __label__2 connect even friends 6 people video...\n",
       "                               ...                        \n",
       "28575    __label__1 speaking poland first ever minister...\n",
       "22032    __label__1 president trump putting americafirs...\n",
       "41444                    __label__2 best action caught 📸 »\n",
       "8559     __label__0 bradbainum 3rd time senmcsallyaz vo...\n",
       "48402    __label__2 “ hair crown wear pride ” thisweeko...\n",
       "Name: value, Length: 41011, dtype: object"
      ]
     },
     "execution_count": 119,
     "metadata": {},
     "output_type": "execute_result"
    }
   ],
   "source": [
    "train_df[\"value\"]"
   ]
  },
  {
   "cell_type": "code",
   "execution_count": 134,
   "metadata": {},
   "outputs": [],
   "source": [
    "train_df['value'].to_csv(\"tweets_train_corpus.csv\",index=False)\n",
    "test_df['value'].to_csv(\"tweets_test_corpus.csv\",index=False)"
   ]
  },
  {
   "cell_type": "code",
   "execution_count": 135,
   "metadata": {},
   "outputs": [],
   "source": [
    "model = fasttext.train_supervised('tweets_train_corpus.csv')"
   ]
  },
  {
   "cell_type": "code",
   "execution_count": 136,
   "metadata": {},
   "outputs": [],
   "source": [
    "#model = fasttext.train_supervised('tweets_train_corpus.csv',lr=0.7,epoch=50, wordNgrams=2,bucket=200000)"
   ]
  },
  {
   "cell_type": "code",
   "execution_count": 137,
   "metadata": {},
   "outputs": [
    {
     "data": {
      "text/plain": [
       "(10253, 0.929191456159173, 0.929191456159173)"
      ]
     },
     "execution_count": 137,
     "metadata": {},
     "output_type": "execute_result"
    }
   ],
   "source": [
    "model.test('tweets_test_corpus.csv')"
   ]
  },
  {
   "cell_type": "code",
   "execution_count": 138,
   "metadata": {},
   "outputs": [
    {
     "name": "stdout",
     "output_type": "stream",
     "text": [
      "N\t10253\n",
      "P@1\t0.929\n",
      "R@1\t0.929\n"
     ]
    }
   ],
   "source": [
    "print_results(*model.test('tweets_test_corpus.csv'))"
   ]
  },
  {
   "cell_type": "code",
   "execution_count": 139,
   "metadata": {},
   "outputs": [],
   "source": [
    "score=model.test('tweets_test_corpus.csv')"
   ]
  },
  {
   "cell_type": "code",
   "execution_count": 140,
   "metadata": {},
   "outputs": [],
   "source": [
    "precision=score[1]\n",
    "recall=score[2]"
   ]
  },
  {
   "cell_type": "code",
   "execution_count": 132,
   "metadata": {},
   "outputs": [],
   "source": [
    "F1 = 2 * (precision * recall) / (precision + recall)"
   ]
  },
  {
   "cell_type": "code",
   "execution_count": 133,
   "metadata": {},
   "outputs": [
    {
     "data": {
      "text/plain": [
       "0.9359211937969375"
      ]
     },
     "execution_count": 133,
     "metadata": {},
     "output_type": "execute_result"
    }
   ],
   "source": [
    "F1"
   ]
  },
  {
   "cell_type": "code",
   "execution_count": 538,
   "metadata": {},
   "outputs": [],
   "source": [
    "# Skipgram model :\n",
    "#model = fasttext.train_unsupervised('tweets_corpus.csv', model='skipgram')\n",
    "\n",
    "# or, cbow model :\n",
    "#model = fasttext.train_unsupervised('tweets_corpus.csv', model='cbow')"
   ]
  },
  {
   "cell_type": "code",
   "execution_count": 539,
   "metadata": {},
   "outputs": [
    {
     "data": {
      "text/plain": [
       "array([ 0.4146808 , -0.3514698 ,  0.99756813, -0.34905446, -0.5383298 ,\n",
       "        0.26337886, -1.3346989 ,  0.2696739 ,  0.01227002, -0.11182483,\n",
       "       -0.56319416,  0.5641128 ,  0.44509768, -0.6356219 ,  0.38990122,\n",
       "       -0.09339877,  0.1606257 ,  0.72620386,  1.0777328 ,  0.49337825,\n",
       "       -0.27959353, -0.1525427 ,  0.97561735,  0.55205953, -0.02131497,\n",
       "       -0.21529667,  0.13206959,  0.16016956,  0.06136292,  0.13445513,\n",
       "       -0.4657135 ,  0.6944296 ,  0.12012708, -0.78917384, -0.39463037,\n",
       "        0.11260908,  0.7887055 ,  0.28799686,  0.08513959, -0.09384476,\n",
       "       -0.08972653,  0.71311516,  0.16640273, -0.61693054, -0.4716776 ,\n",
       "        0.3921702 , -0.48775336,  0.4053595 ,  0.18597561, -0.14477292,\n",
       "        0.00245656, -0.2616625 ,  0.3431946 , -0.05408857,  0.08822475,\n",
       "       -0.0115694 ,  0.2421625 ,  0.04905983,  0.44104955, -0.55255514,\n",
       "        0.36913985,  0.61588585,  0.70548475,  0.4143827 ,  0.879292  ,\n",
       "       -0.5183598 ,  0.5834403 , -0.11093776,  1.1930081 , -0.15393668,\n",
       "        0.08586925,  0.01341932, -0.07034488,  1.02078   ,  0.8008516 ,\n",
       "        0.80975187,  0.18949059, -0.4191628 , -0.23274308, -0.04251278,\n",
       "       -0.21742484, -0.0898154 , -0.98532677,  0.25231475, -0.7099497 ,\n",
       "       -0.10411558,  0.52892464,  0.18512231, -0.2535761 ,  0.45035642,\n",
       "       -0.09964387, -0.02567866, -0.5646328 , -0.27159917,  0.01817986,\n",
       "       -0.21379058,  0.4456153 ,  0.64331144, -0.1231548 ,  0.0267024 ],\n",
       "      dtype=float32)"
      ]
     },
     "execution_count": 539,
     "metadata": {},
     "output_type": "execute_result"
    }
   ],
   "source": [
    "#model.get_word_vector(\"the\")"
   ]
  },
  {
   "cell_type": "code",
   "execution_count": 540,
   "metadata": {},
   "outputs": [],
   "source": [
    "#model = fasttext.train_unsupervised('tweets_corpus.csv', minn=2, maxn=5, dim=300)"
   ]
  },
  {
   "cell_type": "code",
   "execution_count": 541,
   "metadata": {},
   "outputs": [
    {
     "data": {
      "text/plain": [
       "[(0.7268996238708496, 'nicaragua'),\n",
       " (0.7136082649230957, 'aoc'),\n",
       " (0.7117641568183899, 'harass'),\n",
       " (0.704505443572998, 'disarray'),\n",
       " (0.7032791972160339, 'horrendous'),\n",
       " (0.7001626491546631, 'eidmubarak'),\n",
       " (0.6917797327041626, 'agendas'),\n",
       " (0.690413773059845, 'ツ'),\n",
       " (0.6860843300819397, '⇒'),\n",
       " (0.6822501420974731, '…”')]"
      ]
     },
     "execution_count": 541,
     "metadata": {},
     "output_type": "execute_result"
    }
   ],
   "source": [
    "#model.get_nearest_neighbors('asparagus')"
   ]
  }
 ],
 "metadata": {
  "kernelspec": {
   "display_name": "Python 3",
   "language": "python",
   "name": "python3"
  },
  "language_info": {
   "codemirror_mode": {
    "name": "ipython",
    "version": 3
   },
   "file_extension": ".py",
   "mimetype": "text/x-python",
   "name": "python",
   "nbconvert_exporter": "python",
   "pygments_lexer": "ipython3",
   "version": "3.7.6"
  }
 },
 "nbformat": 4,
 "nbformat_minor": 2
}
