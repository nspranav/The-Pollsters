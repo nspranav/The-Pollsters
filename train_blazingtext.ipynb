{
 "cells": [
  {
   "cell_type": "code",
   "execution_count": 25,
   "metadata": {},
   "outputs": [],
   "source": [
    "#!pip install sagemaker"
   ]
  },
  {
   "cell_type": "code",
   "execution_count": 26,
   "metadata": {},
   "outputs": [],
   "source": [
    "import sagemaker\n",
    "from sagemaker import get_execution_role\n",
    "import json\n",
    "import boto3"
   ]
  },
  {
   "cell_type": "code",
   "execution_count": 27,
   "metadata": {},
   "outputs": [],
   "source": [
    "sess = sagemaker.Session()\n",
    "role = get_execution_role()"
   ]
  },
  {
   "cell_type": "code",
   "execution_count": 28,
   "metadata": {},
   "outputs": [
    {
     "data": {
      "text/plain": [
       "'arn:aws:iam::251110592681:role/service-role/AmazonSageMaker-ExecutionRole-20191217T163918'"
      ]
     },
     "execution_count": 28,
     "metadata": {},
     "output_type": "execute_result"
    }
   ],
   "source": [
    "role"
   ]
  },
  {
   "cell_type": "code",
   "execution_count": 29,
   "metadata": {},
   "outputs": [],
   "source": [
    "bucket = \"the-pollsters\"\n",
    "prefix = \"pollsters\""
   ]
  },
  {
   "cell_type": "code",
   "execution_count": 30,
   "metadata": {},
   "outputs": [],
   "source": [
    "with open('dems.txt','r') as file:\n",
    "    dem_txt = [\"__label__0 \" + line.strip('\\n') for line in file]"
   ]
  },
  {
   "cell_type": "code",
   "execution_count": 31,
   "metadata": {},
   "outputs": [],
   "source": [
    "with open('gop.txt','r') as file:\n",
    "    gop_txt = [\"__label__1 \" + line.strip('\\n') for line in file]"
   ]
  },
  {
   "cell_type": "code",
   "execution_count": 32,
   "metadata": {},
   "outputs": [],
   "source": [
    "corpus = dem_txt + gop_txt"
   ]
  },
  {
   "cell_type": "code",
   "execution_count": 33,
   "metadata": {},
   "outputs": [
    {
     "data": {
      "text/plain": [
       "38351"
      ]
     },
     "execution_count": 33,
     "metadata": {},
     "output_type": "execute_result"
    }
   ],
   "source": [
    "len(corpus)"
   ]
  },
  {
   "cell_type": "code",
   "execution_count": 34,
   "metadata": {},
   "outputs": [],
   "source": [
    "from sklearn.model_selection import train_test_split\n",
    "corpus_train, corpus_test = train_test_split(corpus,test_size = 0.3, random_state = 45)\n",
    "\n",
    "corpus_train_text = '\\n'.join(corpus_train)\n",
    "corpus_test_text = '\\n'.join(corpus_test)\n",
    "\n",
    "with open('tweets.train','w') as file:\n",
    "    file.write(corpus_train_text)\n",
    "\n",
    "with open('tweets.test', 'w') as file:\n",
    "    file.write(corpus_test_text)"
   ]
  },
  {
   "cell_type": "code",
   "execution_count": 60,
   "metadata": {},
   "outputs": [],
   "source": [
    "train_path = 'train'\n",
    "test_path =  'test'"
   ]
  },
  {
   "cell_type": "code",
   "execution_count": 61,
   "metadata": {},
   "outputs": [],
   "source": [
    "#sess.upload_data(path = 'tweets.train', bucket = bucket, key_prefix = 'train_path' )\n",
    "#sess.upload_data(path = 'tweets.test', bucket = bucket, key_prefix = 'test_path')\n"
   ]
  },
  {
   "cell_type": "code",
   "execution_count": 62,
   "metadata": {},
   "outputs": [],
   "source": [
    "s3_train_data = 's3://{}/{}'.format(bucket,train_path)\n",
    "s3_test_data = 's3://{}/{}'.format(bucket,test_path)"
   ]
  },
  {
   "cell_type": "code",
   "execution_count": 63,
   "metadata": {},
   "outputs": [],
   "source": [
    "container = sagemaker.amazon.amazon_estimator.get_image_uri('us-east-1','blazingtext','latest')"
   ]
  },
  {
   "cell_type": "code",
   "execution_count": 64,
   "metadata": {},
   "outputs": [],
   "source": [
    "s3_output_location = 's3://{}/{}/output'.format(bucket,prefix)"
   ]
  },
  {
   "cell_type": "code",
   "execution_count": 65,
   "metadata": {},
   "outputs": [],
   "source": [
    "bt_model = sagemaker.estimator.Estimator(container,role\n",
    "                                         ,train_instance_count=1\n",
    "                                         ,train_instance_type='ml.m4.xlarge'\n",
    "                                         ,train_volume_size=5\n",
    "                                         ,train_max_run=360000\n",
    "                                         ,input_mode='File'\n",
    "                                         ,output_path=s3_output_location\n",
    "                                         ,sagemaker_session = sess\n",
    "                                         )"
   ]
  },
  {
   "cell_type": "code",
   "execution_count": 66,
   "metadata": {},
   "outputs": [],
   "source": [
    "bt_model.set_hyperparameters(mode = 'supervised', epochs=10, min_count=3, learning_rate = 0.05, vector_dim = 10, early_stopping=False, patientce=5, min_epochs =5, word_ngrams=2)\n",
    "train_data = sagemaker.session.s3_input(s3_train_data,distribution='FullyReplicated', content_type = 'text/plain', s3_data_type = 'S3Prefix')\n",
    "validation_data = sagemaker.session.s3_input(s3_test_data,distribution='FullyReplicated', content_type='text/plain',s3_data_type = 'S3Prefix')\n",
    "data_channels = {'train':train_data, 'validation': validation_data}"
   ]
  },
  {
   "cell_type": "code",
   "execution_count": 67,
   "metadata": {},
   "outputs": [
    {
     "name": "stdout",
     "output_type": "stream",
     "text": [
      "2020-04-09 19:58:42 Starting - Starting the training job...\n",
      "2020-04-09 19:58:43 Starting - Launching requested ML instances......\n",
      "2020-04-09 19:59:46 Starting - Preparing the instances for training......\n",
      "2020-04-09 20:01:08 Downloading - Downloading input data\n",
      "2020-04-09 20:01:08 Training - Downloading the training image...\n",
      "2020-04-09 20:01:38 Training - Training image download completed. Training in progress..\u001b[34mArguments: train\u001b[0m\n",
      "\u001b[34m[04/09/2020 20:01:39 WARNING 140555001694016] Loggers have already been setup.\u001b[0m\n",
      "\u001b[34m[04/09/2020 20:01:39 WARNING 140555001694016] Loggers have already been setup.\u001b[0m\n",
      "\u001b[34m[04/09/2020 20:01:39 INFO 140555001694016] nvidia-smi took: 0.0251741409302 secs to identify 0 gpus\u001b[0m\n",
      "\u001b[34m[04/09/2020 20:01:39 INFO 140555001694016] Running single machine CPU BlazingText training using supervised mode.\u001b[0m\n",
      "\u001b[34m[04/09/2020 20:01:39 INFO 140555001694016] Processing /opt/ml/input/data/train/train_path/tweets.train . File size: 4 MB\u001b[0m\n",
      "\u001b[34m[04/09/2020 20:01:39 INFO 140555001694016] Processing /opt/ml/input/data/validation/test_path/tweets.test . File size: 2 MB\u001b[0m\n",
      "\u001b[34mRead 0M words\u001b[0m\n",
      "\u001b[34mNumber of words:  17192\u001b[0m\n",
      "\u001b[34m##### Alpha: 0.0448  Progress: 10.45%  Million Words/sec: 7.69 #####\u001b[0m\n",
      "\u001b[34m##### Alpha: 0.0401  Progress: 19.73%  Million Words/sec: 7.27 #####\u001b[0m\n",
      "\u001b[34m##### Alpha: 0.0349  Progress: 30.20%  Million Words/sec: 7.42 #####\u001b[0m\n",
      "\u001b[34m##### Alpha: 0.0296  Progress: 40.83%  Million Words/sec: 7.52 #####\u001b[0m\n",
      "\u001b[34m##### Alpha: 0.0244  Progress: 51.22%  Million Words/sec: 7.55 #####\u001b[0m\n",
      "\u001b[34m##### Alpha: 0.0192  Progress: 61.65%  Million Words/sec: 7.57 #####\u001b[0m\n",
      "\u001b[34m##### Alpha: 0.0140  Progress: 72.05%  Million Words/sec: 7.58 #####\u001b[0m\n",
      "\u001b[34m##### Alpha: 0.0087  Progress: 82.68%  Million Words/sec: 7.61 #####\u001b[0m\n",
      "\u001b[34m##### Alpha: 0.0034  Progress: 93.27%  Million Words/sec: 7.63 #####\u001b[0m\n",
      "\u001b[34m##### Alpha: -0.0000  Progress: 100.00%  Million Words/sec: 7.36 #####\u001b[0m\n",
      "\u001b[34m##### Alpha: 0.0000  Progress: 100.00%  Million Words/sec: 7.36 #####\n",
      "\u001b[0m\n",
      "\u001b[34mTraining finished.\u001b[0m\n",
      "\u001b[34mAverage throughput in Million words/sec: 7.36\u001b[0m\n",
      "\u001b[34mTotal training time in seconds: 1.00\n",
      "\u001b[0m\n",
      "\u001b[34m#train_accuracy: 0.9968\u001b[0m\n",
      "\u001b[34mNumber of train examples: 26845\n",
      "\u001b[0m\n",
      "\u001b[34m#validation_accuracy: 0.9135\u001b[0m\n",
      "\u001b[34mNumber of validation examples: 11506\u001b[0m\n",
      "\n",
      "2020-04-09 20:02:05 Uploading - Uploading generated training model\n",
      "2020-04-09 20:02:05 Completed - Training job completed\n",
      "Training seconds: 68\n",
      "Billable seconds: 68\n"
     ]
    }
   ],
   "source": [
    "bt_model.fit(inputs=data_channels,logs= True)"
   ]
  },
  {
   "cell_type": "code",
   "execution_count": 69,
   "metadata": {},
   "outputs": [
    {
     "name": "stdout",
     "output_type": "stream",
     "text": [
      "-------------!"
     ]
    }
   ],
   "source": [
    "predictor = bt_model.deploy(initial_instance_count=1,instance_type='ml.m4.xlarge')"
   ]
  },
  {
   "cell_type": "code",
   "execution_count": 70,
   "metadata": {},
   "outputs": [
    {
     "data": {
      "text/plain": [
       "<sagemaker.predictor.RealTimePredictor at 0x7feb92f120b8>"
      ]
     },
     "execution_count": 70,
     "metadata": {},
     "output_type": "execute_result"
    }
   ],
   "source": [
    "predictor"
   ]
  },
  {
   "cell_type": "code",
   "execution_count": 72,
   "metadata": {},
   "outputs": [],
   "source": [
    "corpus_test_no_labels= [x[11:] for x in corpus_test]\n",
    "payload={'instances':corpus_test_no_labels}\n",
    "response = predictor.predict(json.dumps(payload))\n",
    "predictions = json.loads(response)\n",
    "#print(json.dumps(predictions,indent=2))"
   ]
  },
  {
   "cell_type": "code",
   "execution_count": 73,
   "metadata": {},
   "outputs": [],
   "source": [
    "predicted_labels = [prediction['label'][0] for prediction in predictions]"
   ]
  },
  {
   "cell_type": "code",
   "execution_count": 74,
   "metadata": {},
   "outputs": [
    {
     "data": {
      "text/plain": [
       "['__label__0', '__label__1', '__label__1', '__label__1']"
      ]
     },
     "execution_count": 74,
     "metadata": {},
     "output_type": "execute_result"
    }
   ],
   "source": [
    "predicted_labels[:4]"
   ]
  },
  {
   "cell_type": "code",
   "execution_count": 75,
   "metadata": {},
   "outputs": [
    {
     "data": {
      "text/plain": [
       "['__label__0', '__label__1', '__label__1', '__label__0']"
      ]
     },
     "execution_count": 75,
     "metadata": {},
     "output_type": "execute_result"
    }
   ],
   "source": [
    "actual_labels = [x[:10] for x in corpus_test]\n",
    "actual_labels[:4]"
   ]
  },
  {
   "cell_type": "code",
   "execution_count": 76,
   "metadata": {},
   "outputs": [],
   "source": [
    "matches = [(actual_label == predicted_label) for (actual_label, predicted_label) in zip(actual_labels,predicted_labels)]"
   ]
  },
  {
   "cell_type": "code",
   "execution_count": 77,
   "metadata": {},
   "outputs": [
    {
     "data": {
      "text/plain": [
       "0.9135233791065531"
      ]
     },
     "execution_count": 77,
     "metadata": {},
     "output_type": "execute_result"
    }
   ],
   "source": [
    "matches.count(True) / len(matches)"
   ]
  },
  {
   "cell_type": "code",
   "execution_count": null,
   "metadata": {},
   "outputs": [],
   "source": []
  }
 ],
 "metadata": {
  "kernelspec": {
   "display_name": "conda_python3",
   "language": "python",
   "name": "conda_python3"
  },
  "language_info": {
   "codemirror_mode": {
    "name": "ipython",
    "version": 3
   },
   "file_extension": ".py",
   "mimetype": "text/x-python",
   "name": "python",
   "nbconvert_exporter": "python",
   "pygments_lexer": "ipython3",
   "version": "3.6.5"
  }
 },
 "nbformat": 4,
 "nbformat_minor": 4
}
